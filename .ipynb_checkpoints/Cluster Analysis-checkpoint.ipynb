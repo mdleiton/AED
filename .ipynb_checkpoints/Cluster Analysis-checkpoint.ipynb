{
 "cells": [
  {
   "cell_type": "markdown",
   "metadata": {},
   "source": [
    "\n",
    "# COMMUNITY DETECTION\n",
    "\n",
    "## 1. Hierarchical Clustering\n",
    "\n",
    "### Girvan Newman algorithm *(No supervisado)*\n",
    "\n",
    "Utiliza el **edge betweenness** (cuantos shortest paths pasan por un edge).\n",
    "\n",
    "Connected components (grafo conexo) existe un camino para todo par de nodos.\n",
    "\n",
    "### Introduction to igraph's community detection algorithm\n",
    "Igraph package in R\n",
    "\n",
    "\n",
    "--- \n",
    "\n",
    "\n",
    "# WHAT IS CLUSTER ANALYSIS?\n",
    "\n",
    "Finding groups of objects such that the objects in a group will be similar (or related) to one another and different from (or unrelated to) the objects in other groups.\n",
    "\n",
    "- Intra-cluster distances are **minimized**\n",
    "- Inter-cluster distances are **maximized**\n",
    "\n",
    "### Machine Learning (ML)\n",
    "> Aprendizaje Supervisado\n",
    "- Classes (labels)\n",
    "- Data Etiquetada (annotation)\n",
    "<br>\n",
    "\n",
    "> Aprendizaje No supervisado\n",
    "- No hay clases\n",
    "- Buscar grupos con objetos similares\n",
    "<br>\n",
    "\n",
    "### Clustering is subjective\n",
    "Por ello nosotros debemos determinar cuales son las similitudes que dos objetos van a tener, en otras palabras determinar la *ditancia*\n",
    "\n",
    ">### Distance Measures\n",
    "> What properties should a distance measure have?<br>\n",
    ">> - D(A,B) = D(B,A)             Symmetry<br>\n",
    ">> - D(A,B) = 0 if A = B         Constancy of Self-Similarity<br>\n",
    ">> - D(A,B) >= 0                 Positivity<br>\n",
    ">> - D(A,B) <= D(A,C) + D(B,C)   Triangular Inequality<br>\n",
    "\n",
    "\n",
    "### Regression & Classification\n",
    "### Golden Dataset "
   ]
  },
  {
   "cell_type": "code",
   "execution_count": null,
   "metadata": {},
   "outputs": [],
   "source": []
  }
 ],
 "metadata": {
  "kernelspec": {
   "display_name": "Python 3",
   "language": "python",
   "name": "python3"
  },
  "language_info": {
   "codemirror_mode": {
    "name": "ipython",
    "version": 3
   },
   "file_extension": ".py",
   "mimetype": "text/x-python",
   "name": "python",
   "nbconvert_exporter": "python",
   "pygments_lexer": "ipython3",
   "version": "3.5.2"
  }
 },
 "nbformat": 4,
 "nbformat_minor": 2
}

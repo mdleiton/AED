{
 "cells": [
  {
   "cell_type": "code",
   "execution_count": null,
   "metadata": {},
   "outputs": [],
   "source": [
    "import pandas as pd\n",
    "import networkx as nx\n",
    "import matplotlib.pyplot as plt\n",
    "import matplotlib.colors as mcolors\n",
    "import operator\n",
    "import numpy as np\n",
    "import os\n",
    "print(os.getcwd())"
   ]
  },
  {
   "cell_type": "code",
   "execution_count": 2,
   "metadata": {},
   "outputs": [
    {
     "name": "stderr",
     "output_type": "stream",
     "text": [
      "/media/mdleiton/Respaldo/repositorios/AED/env/lib/python3.5/site-packages/IPython/core/interactiveshell.py:3049: DtypeWarning: Columns (2,3) have mixed types. Specify dtype option on import or set low_memory=False.\n",
      "  interactivity=interactivity, compiler=compiler, result=result)\n"
     ]
    }
   ],
   "source": [
    "data_users = pd.read_csv('../2parcial/users_datasetGUAYAQUIL.csv')\n",
    "data_tweets = pd.read_csv('../2parcial/tweets_datasetGUAYAQUIL.csv')"
   ]
  },
  {
   "cell_type": "code",
   "execution_count": 3,
   "metadata": {},
   "outputs": [
    {
     "data": {
      "text/html": [
       "<div>\n",
       "<style scoped>\n",
       "    .dataframe tbody tr th:only-of-type {\n",
       "        vertical-align: middle;\n",
       "    }\n",
       "\n",
       "    .dataframe tbody tr th {\n",
       "        vertical-align: top;\n",
       "    }\n",
       "\n",
       "    .dataframe thead th {\n",
       "        text-align: right;\n",
       "    }\n",
       "</style>\n",
       "<table border=\"1\" class=\"dataframe\">\n",
       "  <thead>\n",
       "    <tr style=\"text-align: right;\">\n",
       "      <th></th>\n",
       "      <th>screen_name</th>\n",
       "      <th>following</th>\n",
       "      <th>followers</th>\n",
       "      <th>favourites_count</th>\n",
       "      <th>verified</th>\n",
       "      <th>statuses_count</th>\n",
       "      <th>id_str</th>\n",
       "      <th>created_at</th>\n",
       "    </tr>\n",
       "  </thead>\n",
       "  <tbody>\n",
       "    <tr>\n",
       "      <th>0</th>\n",
       "      <td>gellibert</td>\n",
       "      <td>611</td>\n",
       "      <td>580</td>\n",
       "      <td>2027</td>\n",
       "      <td>False</td>\n",
       "      <td>23661</td>\n",
       "      <td>282674192</td>\n",
       "      <td>Fri Apr 15 17:36:43 +0000 2011</td>\n",
       "    </tr>\n",
       "    <tr>\n",
       "      <th>1</th>\n",
       "      <td>matubupe</td>\n",
       "      <td>1036</td>\n",
       "      <td>225</td>\n",
       "      <td>2602</td>\n",
       "      <td>False</td>\n",
       "      <td>5068</td>\n",
       "      <td>255671525</td>\n",
       "      <td>Mon Feb 21 20:50:35 +0000 2011</td>\n",
       "    </tr>\n",
       "    <tr>\n",
       "      <th>2</th>\n",
       "      <td>LitoHeleno</td>\n",
       "      <td>886</td>\n",
       "      <td>3533</td>\n",
       "      <td>41256</td>\n",
       "      <td>False</td>\n",
       "      <td>75155</td>\n",
       "      <td>701336744</td>\n",
       "      <td>Tue Jul 17 16:22:48 +0000 2012</td>\n",
       "    </tr>\n",
       "    <tr>\n",
       "      <th>3</th>\n",
       "      <td>AlejaRamrez</td>\n",
       "      <td>225</td>\n",
       "      <td>48</td>\n",
       "      <td>73</td>\n",
       "      <td>False</td>\n",
       "      <td>133</td>\n",
       "      <td>563265562</td>\n",
       "      <td>Wed Apr 25 23:11:04 +0000 2012</td>\n",
       "    </tr>\n",
       "    <tr>\n",
       "      <th>4</th>\n",
       "      <td>gabrielacueva</td>\n",
       "      <td>156</td>\n",
       "      <td>157</td>\n",
       "      <td>12</td>\n",
       "      <td>False</td>\n",
       "      <td>722</td>\n",
       "      <td>106171247</td>\n",
       "      <td>Mon Jan 18 18:36:01 +0000 2010</td>\n",
       "    </tr>\n",
       "  </tbody>\n",
       "</table>\n",
       "</div>"
      ],
      "text/plain": [
       "     screen_name  following  followers  favourites_count  verified  \\\n",
       "0      gellibert        611        580              2027     False   \n",
       "1       matubupe       1036        225              2602     False   \n",
       "2     LitoHeleno        886       3533             41256     False   \n",
       "3    AlejaRamrez        225         48                73     False   \n",
       "4  gabrielacueva        156        157                12     False   \n",
       "\n",
       "   statuses_count     id_str                      created_at  \n",
       "0           23661  282674192  Fri Apr 15 17:36:43 +0000 2011  \n",
       "1            5068  255671525  Mon Feb 21 20:50:35 +0000 2011  \n",
       "2           75155  701336744  Tue Jul 17 16:22:48 +0000 2012  \n",
       "3             133  563265562  Wed Apr 25 23:11:04 +0000 2012  \n",
       "4             722  106171247  Mon Jan 18 18:36:01 +0000 2010  "
      ]
     },
     "execution_count": 3,
     "metadata": {},
     "output_type": "execute_result"
    }
   ],
   "source": [
    "data_users.head()"
   ]
  },
  {
   "cell_type": "code",
   "execution_count": 4,
   "metadata": {},
   "outputs": [
    {
     "data": {
      "text/html": [
       "<div>\n",
       "<style scoped>\n",
       "    .dataframe tbody tr th:only-of-type {\n",
       "        vertical-align: middle;\n",
       "    }\n",
       "\n",
       "    .dataframe tbody tr th {\n",
       "        vertical-align: top;\n",
       "    }\n",
       "\n",
       "    .dataframe thead th {\n",
       "        text-align: right;\n",
       "    }\n",
       "</style>\n",
       "<table border=\"1\" class=\"dataframe\">\n",
       "  <thead>\n",
       "    <tr style=\"text-align: right;\">\n",
       "      <th></th>\n",
       "      <th>screen_name</th>\n",
       "      <th>tweet</th>\n",
       "      <th>favorite_count</th>\n",
       "      <th>retweet_count</th>\n",
       "      <th>reply_to</th>\n",
       "      <th>n_user_mentions</th>\n",
       "      <th>n_hashtags</th>\n",
       "      <th>n_urls</th>\n",
       "      <th>user_mentions</th>\n",
       "      <th>hashtags</th>\n",
       "      <th>created_at</th>\n",
       "    </tr>\n",
       "  </thead>\n",
       "  <tbody>\n",
       "    <tr>\n",
       "      <th>0</th>\n",
       "      <td>gellibert</td>\n",
       "      <td>@calleGerardo Mena</td>\n",
       "      <td>0</td>\n",
       "      <td>0</td>\n",
       "      <td>calleGerardo</td>\n",
       "      <td>1.0</td>\n",
       "      <td>0.0</td>\n",
       "      <td>0.0</td>\n",
       "      <td>calleGerardo</td>\n",
       "      <td>NaN</td>\n",
       "      <td>Sat Jun 29 00:26:14 +0000 2019</td>\n",
       "    </tr>\n",
       "    <tr>\n",
       "      <th>1</th>\n",
       "      <td>matubupe</td>\n",
       "      <td>@saramar0813 @FCFSeleccionCol Colombia con 10 ...</td>\n",
       "      <td>0</td>\n",
       "      <td>0</td>\n",
       "      <td>saramar0813</td>\n",
       "      <td>2.0</td>\n",
       "      <td>0.0</td>\n",
       "      <td>0.0</td>\n",
       "      <td>saramar0813;FCFSeleccionCol</td>\n",
       "      <td>NaN</td>\n",
       "      <td>Sat Jun 29 00:26:55 +0000 2019</td>\n",
       "    </tr>\n",
       "    <tr>\n",
       "      <th>2</th>\n",
       "      <td>LitoHeleno</td>\n",
       "      <td>DE SNAPCHAT TE BORRÉ  DE FACEBOOK TE BORRÉ  DE...</td>\n",
       "      <td>0</td>\n",
       "      <td>0</td>\n",
       "      <td>NaN</td>\n",
       "      <td>1.0</td>\n",
       "      <td>0.0</td>\n",
       "      <td>0.0</td>\n",
       "      <td>sanbenito</td>\n",
       "      <td>NaN</td>\n",
       "      <td>Sat Jun 29 00:27:29 +0000 2019</td>\n",
       "    </tr>\n",
       "    <tr>\n",
       "      <th>3</th>\n",
       "      <td>AlejaRamrez</td>\n",
       "      <td>💛💙❤ https://t.co/xneGeHbK8f</td>\n",
       "      <td>0</td>\n",
       "      <td>0</td>\n",
       "      <td>NaN</td>\n",
       "      <td>0.0</td>\n",
       "      <td>0.0</td>\n",
       "      <td>0.0</td>\n",
       "      <td>NaN</td>\n",
       "      <td>NaN</td>\n",
       "      <td>Sat Jun 29 00:27:34 +0000 2019</td>\n",
       "    </tr>\n",
       "    <tr>\n",
       "      <th>4</th>\n",
       "      <td>gabrielacueva</td>\n",
       "      <td>https://t.co/uDuOkZstgt</td>\n",
       "      <td>0</td>\n",
       "      <td>0</td>\n",
       "      <td>NaN</td>\n",
       "      <td>0.0</td>\n",
       "      <td>0.0</td>\n",
       "      <td>0.0</td>\n",
       "      <td>NaN</td>\n",
       "      <td>NaN</td>\n",
       "      <td>Sat Jun 29 00:27:41 +0000 2019</td>\n",
       "    </tr>\n",
       "  </tbody>\n",
       "</table>\n",
       "</div>"
      ],
      "text/plain": [
       "     screen_name                                              tweet  \\\n",
       "0      gellibert                                 @calleGerardo Mena   \n",
       "1       matubupe  @saramar0813 @FCFSeleccionCol Colombia con 10 ...   \n",
       "2     LitoHeleno  DE SNAPCHAT TE BORRÉ  DE FACEBOOK TE BORRÉ  DE...   \n",
       "3    AlejaRamrez                        💛💙❤ https://t.co/xneGeHbK8f   \n",
       "4  gabrielacueva                            https://t.co/uDuOkZstgt   \n",
       "\n",
       "  favorite_count retweet_count      reply_to  n_user_mentions  n_hashtags  \\\n",
       "0              0             0  calleGerardo              1.0         0.0   \n",
       "1              0             0   saramar0813              2.0         0.0   \n",
       "2              0             0           NaN              1.0         0.0   \n",
       "3              0             0           NaN              0.0         0.0   \n",
       "4              0             0           NaN              0.0         0.0   \n",
       "\n",
       "   n_urls                user_mentions hashtags  \\\n",
       "0     0.0                 calleGerardo      NaN   \n",
       "1     0.0  saramar0813;FCFSeleccionCol      NaN   \n",
       "2     0.0                    sanbenito      NaN   \n",
       "3     0.0                          NaN      NaN   \n",
       "4     0.0                          NaN      NaN   \n",
       "\n",
       "                       created_at  \n",
       "0  Sat Jun 29 00:26:14 +0000 2019  \n",
       "1  Sat Jun 29 00:26:55 +0000 2019  \n",
       "2  Sat Jun 29 00:27:29 +0000 2019  \n",
       "3  Sat Jun 29 00:27:34 +0000 2019  \n",
       "4  Sat Jun 29 00:27:41 +0000 2019  "
      ]
     },
     "execution_count": 4,
     "metadata": {},
     "output_type": "execute_result"
    }
   ],
   "source": [
    "data_tweets.head()"
   ]
  },
  {
   "cell_type": "code",
   "execution_count": 5,
   "metadata": {},
   "outputs": [
    {
     "data": {
      "text/html": [
       "<div>\n",
       "<style scoped>\n",
       "    .dataframe tbody tr th:only-of-type {\n",
       "        vertical-align: middle;\n",
       "    }\n",
       "\n",
       "    .dataframe tbody tr th {\n",
       "        vertical-align: top;\n",
       "    }\n",
       "\n",
       "    .dataframe thead th {\n",
       "        text-align: right;\n",
       "    }\n",
       "</style>\n",
       "<table border=\"1\" class=\"dataframe\">\n",
       "  <thead>\n",
       "    <tr style=\"text-align: right;\">\n",
       "      <th></th>\n",
       "      <th>tweet</th>\n",
       "      <th>favorite_count</th>\n",
       "      <th>retweet_count</th>\n",
       "      <th>reply_to</th>\n",
       "      <th>n_user_mentions</th>\n",
       "      <th>n_hashtags</th>\n",
       "      <th>n_urls</th>\n",
       "      <th>user_mentions</th>\n",
       "      <th>hashtags</th>\n",
       "      <th>created_at</th>\n",
       "    </tr>\n",
       "    <tr>\n",
       "      <th>screen_name</th>\n",
       "      <th></th>\n",
       "      <th></th>\n",
       "      <th></th>\n",
       "      <th></th>\n",
       "      <th></th>\n",
       "      <th></th>\n",
       "      <th></th>\n",
       "      <th></th>\n",
       "      <th></th>\n",
       "      <th></th>\n",
       "    </tr>\n",
       "  </thead>\n",
       "  <tbody>\n",
       "    <tr>\n",
       "      <th>jualomal2</th>\n",
       "      <td>958</td>\n",
       "      <td>958</td>\n",
       "      <td>958</td>\n",
       "      <td>958</td>\n",
       "      <td>958</td>\n",
       "      <td>958</td>\n",
       "      <td>958</td>\n",
       "      <td>958</td>\n",
       "      <td>0</td>\n",
       "      <td>958</td>\n",
       "    </tr>\n",
       "    <tr>\n",
       "      <th>jekillsreturn</th>\n",
       "      <td>1358</td>\n",
       "      <td>1358</td>\n",
       "      <td>1358</td>\n",
       "      <td>753</td>\n",
       "      <td>1358</td>\n",
       "      <td>1358</td>\n",
       "      <td>1358</td>\n",
       "      <td>801</td>\n",
       "      <td>195</td>\n",
       "      <td>1358</td>\n",
       "    </tr>\n",
       "    <tr>\n",
       "      <th>gallardogerman</th>\n",
       "      <td>1312</td>\n",
       "      <td>1312</td>\n",
       "      <td>1312</td>\n",
       "      <td>731</td>\n",
       "      <td>1312</td>\n",
       "      <td>1312</td>\n",
       "      <td>1312</td>\n",
       "      <td>779</td>\n",
       "      <td>14</td>\n",
       "      <td>1312</td>\n",
       "    </tr>\n",
       "    <tr>\n",
       "      <th>GaetanoLoHace</th>\n",
       "      <td>782</td>\n",
       "      <td>782</td>\n",
       "      <td>782</td>\n",
       "      <td>681</td>\n",
       "      <td>782</td>\n",
       "      <td>782</td>\n",
       "      <td>782</td>\n",
       "      <td>623</td>\n",
       "      <td>5</td>\n",
       "      <td>782</td>\n",
       "    </tr>\n",
       "    <tr>\n",
       "      <th>daviru3</th>\n",
       "      <td>791</td>\n",
       "      <td>791</td>\n",
       "      <td>791</td>\n",
       "      <td>649</td>\n",
       "      <td>791</td>\n",
       "      <td>791</td>\n",
       "      <td>791</td>\n",
       "      <td>639</td>\n",
       "      <td>2</td>\n",
       "      <td>791</td>\n",
       "    </tr>\n",
       "  </tbody>\n",
       "</table>\n",
       "</div>"
      ],
      "text/plain": [
       "                tweet  favorite_count  retweet_count  reply_to  \\\n",
       "screen_name                                                      \n",
       "jualomal2         958             958            958       958   \n",
       "jekillsreturn    1358            1358           1358       753   \n",
       "gallardogerman   1312            1312           1312       731   \n",
       "GaetanoLoHace     782             782            782       681   \n",
       "daviru3           791             791            791       649   \n",
       "\n",
       "                n_user_mentions  n_hashtags  n_urls  user_mentions  hashtags  \\\n",
       "screen_name                                                                    \n",
       "jualomal2                   958         958     958            958         0   \n",
       "jekillsreturn              1358        1358    1358            801       195   \n",
       "gallardogerman             1312        1312    1312            779        14   \n",
       "GaetanoLoHace               782         782     782            623         5   \n",
       "daviru3                     791         791     791            639         2   \n",
       "\n",
       "                created_at  \n",
       "screen_name                 \n",
       "jualomal2              958  \n",
       "jekillsreturn         1358  \n",
       "gallardogerman        1312  \n",
       "GaetanoLoHace          782  \n",
       "daviru3                791  "
      ]
     },
     "execution_count": 5,
     "metadata": {},
     "output_type": "execute_result"
    }
   ],
   "source": [
    "data_tweets.groupby('screen_name').count().sort_values(by='reply_to', ascending=False).head()"
   ]
  },
  {
   "cell_type": "code",
   "execution_count": 6,
   "metadata": {},
   "outputs": [
    {
     "data": {
      "text/html": [
       "<div>\n",
       "<style scoped>\n",
       "    .dataframe tbody tr th:only-of-type {\n",
       "        vertical-align: middle;\n",
       "    }\n",
       "\n",
       "    .dataframe tbody tr th {\n",
       "        vertical-align: top;\n",
       "    }\n",
       "\n",
       "    .dataframe thead th {\n",
       "        text-align: right;\n",
       "    }\n",
       "</style>\n",
       "<table border=\"1\" class=\"dataframe\">\n",
       "  <thead>\n",
       "    <tr style=\"text-align: right;\">\n",
       "      <th></th>\n",
       "      <th>screen_name</th>\n",
       "      <th>following</th>\n",
       "      <th>followers</th>\n",
       "      <th>favourites_count</th>\n",
       "      <th>verified</th>\n",
       "      <th>statuses_count</th>\n",
       "      <th>id_str</th>\n",
       "      <th>created_at</th>\n",
       "    </tr>\n",
       "  </thead>\n",
       "  <tbody>\n",
       "    <tr>\n",
       "      <th>10912</th>\n",
       "      <td>Flamengo</td>\n",
       "      <td>77</td>\n",
       "      <td>5798529</td>\n",
       "      <td>174</td>\n",
       "      <td>True</td>\n",
       "      <td>224845</td>\n",
       "      <td>59591856</td>\n",
       "      <td>Thu Jul 23 21:19:02 +0000 2009</td>\n",
       "    </tr>\n",
       "    <tr>\n",
       "      <th>4038</th>\n",
       "      <td>malditaternura</td>\n",
       "      <td>1861</td>\n",
       "      <td>3656701</td>\n",
       "      <td>11853</td>\n",
       "      <td>True</td>\n",
       "      <td>44848</td>\n",
       "      <td>261955501</td>\n",
       "      <td>Mon Mar 07 01:51:30 +0000 2011</td>\n",
       "    </tr>\n",
       "    <tr>\n",
       "      <th>3233</th>\n",
       "      <td>rmapalacios</td>\n",
       "      <td>93</td>\n",
       "      <td>2895010</td>\n",
       "      <td>532</td>\n",
       "      <td>True</td>\n",
       "      <td>85579</td>\n",
       "      <td>119174866</td>\n",
       "      <td>Tue Mar 02 22:06:08 +0000 2010</td>\n",
       "    </tr>\n",
       "    <tr>\n",
       "      <th>4816</th>\n",
       "      <td>Refugees</td>\n",
       "      <td>1428</td>\n",
       "      <td>2288991</td>\n",
       "      <td>26705</td>\n",
       "      <td>True</td>\n",
       "      <td>64154</td>\n",
       "      <td>14361155</td>\n",
       "      <td>Fri Apr 11 14:23:51 +0000 2008</td>\n",
       "    </tr>\n",
       "    <tr>\n",
       "      <th>1221</th>\n",
       "      <td>Capital967</td>\n",
       "      <td>813</td>\n",
       "      <td>2158808</td>\n",
       "      <td>2990</td>\n",
       "      <td>False</td>\n",
       "      <td>134534</td>\n",
       "      <td>21889656</td>\n",
       "      <td>Wed Feb 25 17:18:54 +0000 2009</td>\n",
       "    </tr>\n",
       "  </tbody>\n",
       "</table>\n",
       "</div>"
      ],
      "text/plain": [
       "          screen_name  following  followers  favourites_count  verified  \\\n",
       "10912        Flamengo         77    5798529               174      True   \n",
       "4038   malditaternura       1861    3656701             11853      True   \n",
       "3233      rmapalacios         93    2895010               532      True   \n",
       "4816         Refugees       1428    2288991             26705      True   \n",
       "1221       Capital967        813    2158808              2990     False   \n",
       "\n",
       "       statuses_count     id_str                      created_at  \n",
       "10912          224845   59591856  Thu Jul 23 21:19:02 +0000 2009  \n",
       "4038            44848  261955501  Mon Mar 07 01:51:30 +0000 2011  \n",
       "3233            85579  119174866  Tue Mar 02 22:06:08 +0000 2010  \n",
       "4816            64154   14361155  Fri Apr 11 14:23:51 +0000 2008  \n",
       "1221           134534   21889656  Wed Feb 25 17:18:54 +0000 2009  "
      ]
     },
     "execution_count": 6,
     "metadata": {},
     "output_type": "execute_result"
    }
   ],
   "source": [
    "data_users.sort_values(by='followers', ascending=False).head()"
   ]
  },
  {
   "cell_type": "code",
   "execution_count": 7,
   "metadata": {},
   "outputs": [],
   "source": [
    "users_followers = data_users[['screen_name', 'followers']]"
   ]
  },
  {
   "cell_type": "code",
   "execution_count": 8,
   "metadata": {},
   "outputs": [],
   "source": [
    "users_reply = data_tweets[['screen_name', 'reply_to']]"
   ]
  },
  {
   "cell_type": "code",
   "execution_count": 9,
   "metadata": {},
   "outputs": [],
   "source": [
    "users_reply = users_reply.dropna()"
   ]
  },
  {
   "cell_type": "code",
   "execution_count": 10,
   "metadata": {},
   "outputs": [],
   "source": [
    "merge = pd.merge(users_reply, users_followers, how='inner')"
   ]
  },
  {
   "cell_type": "code",
   "execution_count": 11,
   "metadata": {},
   "outputs": [],
   "source": [
    "merge.columns = ['screen_name', 'reply_to', 'weight']"
   ]
  },
  {
   "cell_type": "code",
   "execution_count": 12,
   "metadata": {},
   "outputs": [
    {
     "data": {
      "text/html": [
       "<div>\n",
       "<style scoped>\n",
       "    .dataframe tbody tr th:only-of-type {\n",
       "        vertical-align: middle;\n",
       "    }\n",
       "\n",
       "    .dataframe tbody tr th {\n",
       "        vertical-align: top;\n",
       "    }\n",
       "\n",
       "    .dataframe thead th {\n",
       "        text-align: right;\n",
       "    }\n",
       "</style>\n",
       "<table border=\"1\" class=\"dataframe\">\n",
       "  <thead>\n",
       "    <tr style=\"text-align: right;\">\n",
       "      <th></th>\n",
       "      <th>screen_name</th>\n",
       "      <th>reply_to</th>\n",
       "      <th>weight</th>\n",
       "    </tr>\n",
       "  </thead>\n",
       "  <tbody>\n",
       "    <tr>\n",
       "      <th>0</th>\n",
       "      <td>gellibert</td>\n",
       "      <td>calleGerardo</td>\n",
       "      <td>580</td>\n",
       "    </tr>\n",
       "    <tr>\n",
       "      <th>1</th>\n",
       "      <td>gellibert</td>\n",
       "      <td>AlvaroRiera24</td>\n",
       "      <td>580</td>\n",
       "    </tr>\n",
       "    <tr>\n",
       "      <th>2</th>\n",
       "      <td>gellibert</td>\n",
       "      <td>RIVAUL10_</td>\n",
       "      <td>580</td>\n",
       "    </tr>\n",
       "    <tr>\n",
       "      <th>3</th>\n",
       "      <td>gellibert</td>\n",
       "      <td>AlejandroSelDel</td>\n",
       "      <td>580</td>\n",
       "    </tr>\n",
       "    <tr>\n",
       "      <th>4</th>\n",
       "      <td>gellibert</td>\n",
       "      <td>mariapazza</td>\n",
       "      <td>580</td>\n",
       "    </tr>\n",
       "    <tr>\n",
       "      <th>5</th>\n",
       "      <td>gellibert</td>\n",
       "      <td>bonillaportilla</td>\n",
       "      <td>580</td>\n",
       "    </tr>\n",
       "    <tr>\n",
       "      <th>6</th>\n",
       "      <td>gellibert</td>\n",
       "      <td>AlvaroRiera24</td>\n",
       "      <td>580</td>\n",
       "    </tr>\n",
       "    <tr>\n",
       "      <th>7</th>\n",
       "      <td>gellibert</td>\n",
       "      <td>Jorge_andres_s</td>\n",
       "      <td>580</td>\n",
       "    </tr>\n",
       "    <tr>\n",
       "      <th>8</th>\n",
       "      <td>gellibert</td>\n",
       "      <td>AndresPonce28</td>\n",
       "      <td>580</td>\n",
       "    </tr>\n",
       "    <tr>\n",
       "      <th>9</th>\n",
       "      <td>gellibert</td>\n",
       "      <td>mariajoseaz20</td>\n",
       "      <td>580</td>\n",
       "    </tr>\n",
       "  </tbody>\n",
       "</table>\n",
       "</div>"
      ],
      "text/plain": [
       "  screen_name         reply_to  weight\n",
       "0   gellibert     calleGerardo     580\n",
       "1   gellibert    AlvaroRiera24     580\n",
       "2   gellibert        RIVAUL10_     580\n",
       "3   gellibert  AlejandroSelDel     580\n",
       "4   gellibert       mariapazza     580\n",
       "5   gellibert  bonillaportilla     580\n",
       "6   gellibert    AlvaroRiera24     580\n",
       "7   gellibert   Jorge_andres_s     580\n",
       "8   gellibert    AndresPonce28     580\n",
       "9   gellibert    mariajoseaz20     580"
      ]
     },
     "execution_count": 12,
     "metadata": {},
     "output_type": "execute_result"
    }
   ],
   "source": [
    "merge.head(10)"
   ]
  },
  {
   "cell_type": "code",
   "execution_count": 13,
   "metadata": {},
   "outputs": [
    {
     "data": {
      "text/plain": [
       "93211"
      ]
     },
     "execution_count": 13,
     "metadata": {},
     "output_type": "execute_result"
    }
   ],
   "source": [
    "len(merge)"
   ]
  },
  {
   "cell_type": "code",
   "execution_count": 14,
   "metadata": {},
   "outputs": [],
   "source": [
    "G = nx.from_pandas_edgelist(merge.head(1500), source='screen_name', target='reply_to', edge_attr=['weight'])\n",
    "posG = nx.spring_layout(G)"
   ]
  },
  {
   "cell_type": "code",
   "execution_count": 16,
   "metadata": {},
   "outputs": [
    {
     "data": {
      "image/png": "[encoded data removed]",
      "text/plain": [
       "<Figure size 432x288 with 1 Axes>"
      ]
     },
     "metadata": {},
     "output_type": "display_data"
    }
   ],
   "source": [
    "nx.draw(G)\n",
    "plt.show()"
   ]
  },
  {
   "cell_type": "code",
   "execution_count": 17,
   "metadata": {},
   "outputs": [],
   "source": [
    "def draw(G, pos, measures, measure_name):\n",
    "    \n",
    "    nodes = nx.draw_networkx_nodes(G, pos, node_size=250, cmap=plt.cm.plasma, \n",
    "                                   node_color=list(measures.values()),\n",
    "                                   nodelist=measures.keys())\n",
    "    nodes.set_norm(mcolors.SymLogNorm(linthresh=0.01, linscale=1))\n",
    "    \n",
    "    # labels = nx.draw_networkx_labels(G, pos)\n",
    "    edges = nx.draw_networkx_edges(G, pos)\n",
    "\n",
    "    plt.title(measure_name)\n",
    "    plt.colorbar(nodes)\n",
    "    plt.axis('off')\n",
    "    plt.show()"
   ]
  },
  {
   "cell_type": "code",
   "execution_count": 18,
   "metadata": {},
   "outputs": [
    {
     "data": {
      "image/png": "[encoded data removed]",
      "text/plain": [
       "<Figure size 432x288 with 2 Axes>"
      ]
     },
     "metadata": {
      "needs_background": "light"
     },
     "output_type": "display_data"
    }
   ],
   "source": [
    "draw(G, posG, nx.degree_centrality(G), 'Degree Centrality')"
   ]
  },
  {
   "cell_type": "code",
   "execution_count": 19,
   "metadata": {},
   "outputs": [
    {
     "data": {
      "text/plain": [
       "'ccarrasco750'"
      ]
     },
     "execution_count": 19,
     "metadata": {},
     "output_type": "execute_result"
    }
   ],
   "source": [
    "stats = nx.degree_centrality(G)\n",
    "max(stats.items(), key=operator.itemgetter(1))[0]"
   ]
  },
  {
   "cell_type": "code",
   "execution_count": 20,
   "metadata": {},
   "outputs": [
    {
     "name": "stderr",
     "output_type": "stream",
     "text": [
      "/media/mdleiton/Respaldo/repositorios/AED/env/lib/python3.5/site-packages/matplotlib/colorbar.py:1042: RuntimeWarning: invalid value encountered in true_divide\n",
      "  z = np.take(y, i0) + (xn - np.take(b, i0)) * dy / db\n",
      "/media/mdleiton/Respaldo/repositorios/AED/env/lib/python3.5/site-packages/matplotlib/transforms.py:402: RuntimeWarning: invalid value encountered in double_scalars\n",
      "  return points[1, 0] - points[0, 0]\n"
     ]
    },
    {
     "data": {
      "image/png": "[encoded data removed]",
      "text/plain": [
       "<Figure size 432x288 with 2 Axes>"
      ]
     },
     "metadata": {
      "needs_background": "light"
     },
     "output_type": "display_data"
    }
   ],
   "source": [
    "draw(G, posG, nx.clustering(G), 'Clusters')"
   ]
  },
  {
   "cell_type": "code",
   "execution_count": 21,
   "metadata": {},
   "outputs": [
    {
     "data": {
      "image/png": "[encoded data removed]",
      "text/plain": [
       "<Figure size 432x288 with 2 Axes>"
      ]
     },
     "metadata": {
      "needs_background": "light"
     },
     "output_type": "display_data"
    }
   ],
   "source": [
    "draw(G, posG, nx.eigenvector_centrality(G), 'Eigenvector Centrality')"
   ]
  },
  {
   "cell_type": "code",
   "execution_count": 22,
   "metadata": {},
   "outputs": [
    {
     "data": {
      "image/png": "[encoded data removed]",
      "text/plain": [
       "<Figure size 432x288 with 2 Axes>"
      ]
     },
     "metadata": {
      "needs_background": "light"
     },
     "output_type": "display_data"
    }
   ],
   "source": [
    "draw(G, posG, nx.closeness_centrality(G), 'Closeness Centrality')"
   ]
  },
  {
   "cell_type": "code",
   "execution_count": 23,
   "metadata": {},
   "outputs": [
    {
     "data": {
      "text/plain": [
       "'ccarrasco750'"
      ]
     },
     "execution_count": 23,
     "metadata": {},
     "output_type": "execute_result"
    }
   ],
   "source": [
    "stats = nx.closeness_centrality(G)\n",
    "max(stats.items(), key=operator.itemgetter(1))[0]"
   ]
  },
  {
   "cell_type": "code",
   "execution_count": 24,
   "metadata": {},
   "outputs": [
    {
     "data": {
      "image/png": "[encoded data removed]",
      "text/plain": [
       "<Figure size 432x288 with 2 Axes>"
      ]
     },
     "metadata": {
      "needs_background": "light"
     },
     "output_type": "display_data"
    }
   ],
   "source": [
    "draw(G, posG, nx.betweenness_centrality(G), 'Betweenness Centrality')"
   ]
  },
  {
   "cell_type": "code",
   "execution_count": 25,
   "metadata": {},
   "outputs": [],
   "source": [
    "eigen_centrality = nx.eigenvector_centrality(G)\n",
    "all_nodes = [(node,eigen_centrality[node]) for node in eigen_centrality]"
   ]
  },
  {
   "cell_type": "code",
   "execution_count": 26,
   "metadata": {},
   "outputs": [],
   "source": [
    "node_colours = []\n",
    "for node in all_nodes:\n",
    "    if node[1] < 0.05:\n",
    "        node_colours.append('blue')\n",
    "    else:\n",
    "        node_colours.append('green')"
   ]
  },
  {
   "cell_type": "code",
   "execution_count": 27,
   "metadata": {},
   "outputs": [
    {
     "data": {
      "text/plain": [
       "1"
      ]
     },
     "execution_count": 27,
     "metadata": {},
     "output_type": "execute_result"
    }
   ],
   "source": [
    "node_colours.count('green')"
   ]
  },
  {
   "cell_type": "code",
   "execution_count": 28,
   "metadata": {},
   "outputs": [
    {
     "data": {
      "image/png": "[encoded data removed]",
      "text/plain": [
       "<Figure size 432x288 with 1 Axes>"
      ]
     },
     "metadata": {},
     "output_type": "display_data"
    }
   ],
   "source": [
    "nx.draw_spring(G, k =1, node_color = node_colours,\n",
    "               node_size = [eigen_centrality[n] for n in G.nodes()], \n",
    "               font_size = 6, with_labels = True)"
   ]
  },
  {
   "cell_type": "code",
   "execution_count": null,
   "metadata": {},
   "outputs": [],
   "source": [
    "merge.head()"
   ]
  },
  {
   "cell_type": "code",
   "execution_count": null,
   "metadata": {},
   "outputs": [],
   "source": [
    "merge['screen_name'].value_counts()[:100]"
   ]
  },
  {
   "cell_type": "code",
   "execution_count": null,
   "metadata": {},
   "outputs": [],
   "source": []
  },
  {
   "cell_type": "code",
   "execution_count": null,
   "metadata": {},
   "outputs": [],
   "source": []
  }
 ],
 "metadata": {
  "kernelspec": {
   "display_name": "Python 3",
   "language": "python",
   "name": "python3"
  },
  "language_info": {
   "codemirror_mode": {
    "name": "ipython",
    "version": 3
   },
   "file_extension": ".py",
   "mimetype": "text/x-python",
   "name": "python",
   "nbconvert_exporter": "python",
   "pygments_lexer": "ipython3",
   "version": "3.5.2"
  }
 },
 "nbformat": 4,
 "nbformat_minor": 2
}
